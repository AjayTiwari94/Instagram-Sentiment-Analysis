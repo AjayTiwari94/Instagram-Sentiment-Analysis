{
  "nbformat": 4,
  "nbformat_minor": 0,
  "metadata": {
    "colab": {
      "provenance": []
    },
    "kernelspec": {
      "name": "python3",
      "display_name": "Python 3"
    },
    "language_info": {
      "name": "python"
    }
  },
  "cells": [
    {
      "cell_type": "code",
      "execution_count": 1,
      "metadata": {
        "id": "bwRARXED64Oz"
      },
      "outputs": [],
      "source": [
        "# Importing necessary libraries\n",
        "import pandas as pd\n",
        "import matplotlib.pyplot as plt\n",
        "import seaborn as sns\n",
        "import nltk\n",
        "from nltk.sentiment.vader import SentimentIntensityAnalyzer\n",
        "from sklearn.metrics import accuracy_score, classification_report\n",
        "import kagglehub\n",
        "import os"
      ]
    },
    {
      "cell_type": "code",
      "source": [
        "# --- 1. Downloading NLTK Data ---\n",
        "# This is required for the VADER sentiment analyzer.\n",
        "# It's best to run this once to ensure the data is available.\n",
        "print(\"Downloading NLTK VADER lexicon...\")\n",
        "try:\n",
        "    nltk.download('vader_lexicon', quiet=True)\n",
        "    print(\"Download complete.\")\n",
        "except Exception as e:\n",
        "    print(f\"Error downloading NLTK data: {e}\")\n",
        "    print(\"Please check your internet connection.\")"
      ],
      "metadata": {
        "colab": {
          "base_uri": "https://localhost:8080/"
        },
        "id": "E20DOXUC7EtY",
        "outputId": "4028696e-9f91-4009-8a8d-06a8941d080c"
      },
      "execution_count": 2,
      "outputs": [
        {
          "output_type": "stream",
          "name": "stdout",
          "text": [
            "Downloading NLTK VADER lexicon...\n",
            "Download complete.\n"
          ]
        }
      ]
    },
    {
      "cell_type": "code",
      "source": [
        "# --- 2. Load the Local Dataset ---\n",
        "# Please upload your 'sentimentdataset.csv' file to your Colab/Jupyter environment first.\n",
        "print(\"\\nLoading local dataset...\")\n",
        "try:\n",
        "    file_path = \"/content/drive/MyDrive/Colab Notebooks/sentimentdataset.csv\"\n",
        "    df = pd.read_csv(file_path)\n",
        "    # Select and rename the relevant columns to match the rest of the script\n",
        "    df = df[['Text', 'Sentiment']]\n",
        "    df.columns = ['comment', 'sentiment_ground_truth']\n",
        "    print(f\"Successfully loaded dataset with {len(df)} comments.\")\n",
        "except FileNotFoundError:\n",
        "    print(f\"Error: '{file_path}' not found.\")\n",
        "    print(\"Please make sure you have uploaded your 'sentimentdataset.csv' file to this environment.\")\n",
        "    # Create a dummy dataframe if loading fails\n",
        "    df = pd.DataFrame()\n"
      ],
      "metadata": {
        "colab": {
          "base_uri": "https://localhost:8080/"
        },
        "id": "iHt6PeQc7Ncg",
        "outputId": "54d096ab-aa73-4ff8-c149-cae76cc7a738"
      },
      "execution_count": 5,
      "outputs": [
        {
          "output_type": "stream",
          "name": "stdout",
          "text": [
            "\n",
            "Loading local dataset...\n",
            "Successfully loaded dataset with 732 comments.\n"
          ]
        }
      ]
    },
    {
      "cell_type": "code",
      "source": [
        "# --- 3. Preprocess and Standardize Ground Truth Labels ---\n",
        "if not df.empty:\n",
        "    print(\"\\nStandardizing ground truth labels...\")\n",
        "    # Clean the labels by removing whitespace\n",
        "    df['sentiment_ground_truth'] = df['sentiment_ground_truth'].str.strip()\n",
        "\n",
        "    # Define a mapping from the many specific emotions to three categories\n",
        "    def map_sentiment(sentiment):\n",
        "        positive_list = ['Positive', 'Happy', 'Love', 'Joy', 'Excitement', 'Gratitude', 'Hopeful', 'Contentment', 'Inspired', 'Amusement', 'Elation', 'Serenity', 'Adoration', 'Amazement', 'Awe', 'Celebration', 'Confidence', 'Determination', 'Empowerment', 'Enthusiasm', 'Euphoria', 'Freedom', 'Fulfillment', 'Grateful', 'Harmony', 'Hope', 'Inspiration', 'Kindness', 'Optimism', 'Pride', 'Relief', 'Satisfaction', 'Success', 'Triumph', 'Wonder']\n",
        "        negative_list = ['Negative', 'Sad', 'Anger', 'Fear', 'Disgust', 'Anxiety', 'Betrayal', 'Bitter', 'Bitterness', 'Despair', 'Disappointment', 'Frustration', 'Grief', 'Hate', 'Heartbreak', 'Loneliness', 'Regret', 'Sorrow', 'Suffering', 'Yearning', 'Bad', 'Devastated', 'Exhaustion', 'Helplessness', 'Numbness', 'Shame']\n",
        "\n",
        "        if sentiment in positive_list:\n",
        "            return 'Positive'\n",
        "        elif sentiment in negative_list:\n",
        "            return 'Negative'\n",
        "        else:\n",
        "            # All other nuanced or ambiguous emotions will be considered Neutral\n",
        "            return 'Neutral'\n",
        "\n",
        "    # Apply the mapping to the ground truth column\n",
        "    df['sentiment_ground_truth'] = df['sentiment_ground_truth'].apply(map_sentiment)\n",
        "    print(\"Standardization complete.\")\n",
        "\n",
        "\n",
        "# --- 4. Perform Sentiment Analysis ---\n",
        "if not df.empty and 'comment' in df.columns:\n",
        "    # Initialize the VADER Sentiment Analyzer\n",
        "    sia = SentimentIntensityAnalyzer()\n",
        "\n",
        "    # Define a function to get the sentiment score\n",
        "    def get_vader_sentiment(comment):\n",
        "        if not isinstance(comment, str):\n",
        "            return 'Neutral'\n",
        "        score = sia.polarity_scores(comment)['compound']\n",
        "        if score > 0.05:\n",
        "            return 'Positive'\n",
        "        elif score < -0.05:\n",
        "            return 'Negative'\n",
        "        else:\n",
        "            return 'Neutral'\n",
        "\n",
        "    # Apply the function to the 'comment' column\n",
        "    print(\"\\nAnalyzing sentiment of comments using VADER...\")\n",
        "    df['sentiment_predicted'] = df['comment'].apply(get_vader_sentiment)\n",
        "    print(\"Sentiment analysis complete.\")\n",
        "\n",
        "    # --- 5. Evaluate Model Performance ---\n",
        "    accuracy = accuracy_score(df['sentiment_ground_truth'], df['sentiment_predicted'])\n",
        "    print(\"\\n--- VADER Model Evaluation ---\")\n",
        "    print(f\"Overall Accuracy: {accuracy:.2%}\")\n",
        "    print(\"\\n--- Classification Report ---\")\n",
        "    print(classification_report(df['sentiment_ground_truth'], df['sentiment_predicted'], zero_division=0))\n",
        "\n",
        "\n",
        "    # --- 6. Visualize the Results ---\n",
        "    print(\"\\n--- Predicted Sentiment Distribution ---\")\n",
        "    print(df['sentiment_predicted'].value_counts())\n",
        "\n",
        "    plt.figure(figsize=(8, 6))\n",
        "    ax = sns.countplot(x='sentiment_predicted', data=df, order=['Positive', 'Neutral', 'Negative'], palette='viridis')\n",
        "    ax.set_title('Distribution of Predicted Instagram Comment Sentiment', fontsize=16)\n",
        "    ax.set_xlabel('Sentiment', fontsize=12)\n",
        "    ax.set_ylabel('Number of Comments', fontsize=12)\n",
        "    plt.show()\n",
        "\n",
        "else:\n",
        "    print(\"\\nCould not perform analysis because the dataframe is empty or missing the 'comment' column.\")\n",
        "\n"
      ],
      "metadata": {
        "colab": {
          "base_uri": "https://localhost:8080/",
          "height": 1000
        },
        "id": "4tAR68Bj7T-Z",
        "outputId": "1e45cde6-2d59-482b-b4a7-7a4c787a2b79"
      },
      "execution_count": 11,
      "outputs": [
        {
          "output_type": "stream",
          "name": "stdout",
          "text": [
            "\n",
            "Standardizing ground truth labels...\n",
            "Standardization complete.\n",
            "\n",
            "Analyzing sentiment of comments using VADER...\n",
            "Sentiment analysis complete.\n",
            "\n",
            "--- VADER Model Evaluation ---\n",
            "Overall Accuracy: 54.37%\n",
            "\n",
            "--- Classification Report ---\n",
            "              precision    recall  f1-score   support\n",
            "\n",
            "    Negative       0.53      0.86      0.66       115\n",
            "     Neutral       0.49      0.13      0.20       317\n",
            "    Positive       0.56      0.86      0.68       300\n",
            "\n",
            "    accuracy                           0.54       732\n",
            "   macro avg       0.53      0.62      0.51       732\n",
            "weighted avg       0.53      0.54      0.47       732\n",
            "\n",
            "\n",
            "--- Predicted Sentiment Distribution ---\n",
            "sentiment_predicted\n",
            "Positive    462\n",
            "Negative    187\n",
            "Neutral      83\n",
            "Name: count, dtype: int64\n"
          ]
        },
        {
          "output_type": "stream",
          "name": "stderr",
          "text": [
            "/tmp/ipython-input-11-244117009.py:60: FutureWarning: \n",
            "\n",
            "Passing `palette` without assigning `hue` is deprecated and will be removed in v0.14.0. Assign the `x` variable to `hue` and set `legend=False` for the same effect.\n",
            "\n",
            "  ax = sns.countplot(x='sentiment_predicted', data=df, order=['Positive', 'Neutral', 'Negative'], palette='viridis')\n"
          ]
        },
        {
          "output_type": "display_data",
          "data": {
            "text/plain": [
              "<Figure size 800x600 with 1 Axes>"
            ],
            "image/png": "[encoded data removed]"
          },
          "metadata": {}
        }
      ]
    },
    {
      "cell_type": "code",
      "source": [],
      "metadata": {
        "id": "E1vxkxvU9xWE"
      },
      "execution_count": null,
      "outputs": []
    }
  ]
}